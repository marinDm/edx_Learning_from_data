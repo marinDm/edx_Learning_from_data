{
 "cells": [
  {
   "cell_type": "markdown",
   "metadata": {},
   "source": [
    "Let's define the functions we need to solve problems from 13 to 18."
   ]
  },
  {
   "cell_type": "code",
   "execution_count": 41,
   "metadata": {
    "collapsed": true
   },
   "outputs": [],
   "source": [
    "import numpy as np\n",
    "import matplotlib.pyplot as plt\n",
    "import random\n",
    "import pandas as pd\n",
    "from sklearn.svm import SVC\n",
    "\n",
    "def SVM_func_rbf(X_in, y_in, X_out, y_out, gam):\n",
    "    clf_SVM = SVC( C= np.inf, kernel = 'rbf', shrinking = False, tol=1e-3, gamma= gam,  random_state=200) \n",
    "    clf_SVM.fit(X_in, y_in)\n",
    "    E_in = 1 - clf_SVM.score(X_in, y_in)\n",
    "    E_out = 1 - clf_SVM.score(X_out, y_out)\n",
    "    return E_in, E_out\n",
    "\n",
    "def RBF(X, y, K, gamma):    \n",
    "    N_points = len(X)    \n",
    "    \n",
    "# Lloyd algorithm\n",
    "    nu_k = np.zeros([K,2])\n",
    "    delta_nu = np.ones([K,2])\n",
    "    eucl_dists = np.zeros([K, 1])\n",
    "    clust_lbls = np.zeros([N_points])\n",
    "    Fai = np.zeros([N_points, K])\n",
    "    for i in range(0, K):\n",
    "        nu_k[i,:] = X[random.randint(0, N_points-1), :]\n",
    "    \n",
    "    counter=0    \n",
    "    while np.max(delta_nu)!=0 and counter< 20:\n",
    "        for i in range(0, N_points):\n",
    "            for j in range(0, K):\n",
    "                eucl_dists[j] = ( np.linalg.norm( nu_k[j,:] - X[i, :]) )**2\n",
    "            clust_lbls[i] = np.argmin( eucl_dists )\n",
    "        \n",
    "        # here we check empty or not each cluster. \n",
    "        if( len(np.unique(clust_lbls)) != K):\n",
    "            return np.zeros([K]), nu_k, -1\n",
    "        \n",
    "        for i in range(0, K):            \n",
    "            delta_nu[i] = nu_k[i] - np.mean( X[np.where(clust_lbls==i)[0], :], axis=0 )\n",
    "            nu_k[i] = np.mean( X[np.where(clust_lbls==i)[0], :], axis=0 )\n",
    "        counter+=1\n",
    "        #print(\"iteration:\", counter, \" delta_nu= \", np.max(delta_nu) )\n",
    "        \n",
    "    for i in range(0, N_points):        \n",
    "        for j in range(0, K):\n",
    "            Fai[i][j] = np.exp( (-1)*gamma* ( np.linalg.norm( X[i, :] - nu_k[j,:] ) )**2 )\n",
    "    \n",
    "    Fai_T = np.transpose(Fai)\n",
    "    Fai_mult = np.dot(Fai_T, Fai)    \n",
    "    Fai_inv = np.linalg.inv(Fai_mult)\n",
    "    Fai_ps_inv = np.dot(Fai_inv, Fai_T)\n",
    "    W_rbf = np.dot(Fai_ps_inv, y) \n",
    "    return W_rbf, nu_k, 0\n",
    "    \n",
    "def RBF_predict(X, W_rbf, K, gamma, nu_k):\n",
    "    N_points = len(X)\n",
    "    predicted = np.zeros([N_points])\n",
    "    sum_1p=0\n",
    "    for i  in range(0, N_points):\n",
    "        for j in range(0, K):\n",
    "            sum_1p += W_rbf[j] * np.exp( -1*gamma * ( np.linalg.norm( X[i, :] - nu_k[j,:] ) )**2 )\n",
    "        predicted[i] = np.sign(sum_1p)\n",
    "        sum_1p = 0\n",
    "    return predicted\n",
    "\n",
    "def rnd():\n",
    "    return random.uniform(-1.0, 1.0)\n",
    "\n",
    "def generate_rand_points(N_points):\n",
    "    X = np.zeros([N_points, 2])\n",
    "    for i in range(0, 2):\n",
    "        for j in range(0, N_points):\n",
    "            X[j, i] = rnd()\n",
    "    return X\n",
    "\n",
    "def target_function(X):\n",
    "    y = np.sign( X[:, 1] - X[:, 0] - 0.25*np.sin(np.pi* X[:, 0]) )\n",
    "    return y\n",
    "    \n",
    "def error_in_out_evaluation(f_labels, g_labels):\n",
    "    N_points = len(f_labels)\n",
    "    E_in = 0.0\n",
    "    for i in range(0, N_points):\n",
    "        if(f_labels[i] != g_labels[i]):\n",
    "            E_in+=1\n",
    "    E_in = E_in / N_points\n",
    "    return E_in"
   ]
  },
  {
   "cell_type": "markdown",
   "metadata": {},
   "source": [
    "<b>Problem 13</b>"
   ]
  },
  {
   "cell_type": "code",
   "execution_count": 43,
   "metadata": {
    "collapsed": false
   },
   "outputs": [
    {
     "name": "stdout",
     "output_type": "stream",
     "text": [
      "Data set isn't separable by RBF kernel in  0.0 % of time.\n"
     ]
    }
   ],
   "source": [
    "N_runs = 1000\n",
    "N_train = 100\n",
    "N_test = 1000\n",
    "\n",
    "E_in = np.zeros([N_runs])\n",
    "for i in range(0, N_runs):\n",
    "    train_set = generate_rand_points(N_train)\n",
    "    f_labels = target_function(train_set)\n",
    "    E_in[i], E_out = SVM_func_rbf(train_set, f_labels, train_set, f_labels, 1.5)\n",
    "    E_in = np.zeros([N_runs])\n",
    "print(\"Data set isn't separable by RBF kernel in \", np.count_nonzero(E_in!=0) / N_runs, \"% of time.\")"
   ]
  },
  {
   "cell_type": "markdown",
   "metadata": {},
   "source": [
    "The correct answer is <b>[a]</b>."
   ]
  },
  {
   "cell_type": "markdown",
   "metadata": {},
   "source": [
    "<b>Problem 14</b>"
   ]
  },
  {
   "cell_type": "code",
   "execution_count": 47,
   "metadata": {
    "collapsed": false
   },
   "outputs": [
    {
     "name": "stdout",
     "output_type": "stream",
     "text": [
      "fraction=  0.81\n"
     ]
    }
   ],
   "source": [
    "counter = 0\n",
    "iteration =0\n",
    "status = np.ones([N_runs*10])\n",
    "E_in_reg = np.zeros([N_runs])\n",
    "E_out_reg = np.zeros([N_runs])\n",
    "E_in_kern = np.zeros([N_runs])\n",
    "E_out_kern = np.zeros([N_runs])\n",
    "while counter< N_runs:\n",
    "    train_set = generate_rand_points(N_train)\n",
    "    test_set = generate_rand_points(N_test)\n",
    "    f_labels_train = target_function(train_set)\n",
    "    f_labels_test = target_function(test_set)\n",
    "    W_rbf, nu_k, status[iteration] = RBF(train_set, f_labels_train, 9, 1.5)\n",
    "    if status[iteration]!=-1:        \n",
    "        predicted_in = RBF_predict( train_set, W_rbf, 9, 1.5, nu_k)\n",
    "        predicted_out = RBF_predict( test_set, W_rbf, 9, 1.5, nu_k)\n",
    "        E_in_reg[counter] =error_in_out_evaluation(f_labels_train, predicted_in)\n",
    "        E_out_reg[counter] =error_in_out_evaluation(f_labels_test, predicted_out)\n",
    "\n",
    "        E_in_kern[counter], E_out_kern[counter] = SVM_func_rbf(train_set, f_labels_train, test_set, f_labels_test, 1.5)\n",
    "        counter+=1\n",
    "    iteration+=1\n",
    "\n",
    "print(\"fraction= \", np.count_nonzero(E_out_kern < E_out_reg) / np.float(N_runs))"
   ]
  },
  {
   "cell_type": "markdown",
   "metadata": {},
   "source": [
    "Thus the kernel with number of clusters K=9 and $\\gamma = 1.5$  is better than regular RBF in 81% of the time. The correct answer is <b>[e]</b>.\n",
    "\n",
    "<b>Problem 15</b>"
   ]
  },
  {
   "cell_type": "code",
   "execution_count": 46,
   "metadata": {
    "collapsed": false
   },
   "outputs": [
    {
     "name": "stdout",
     "output_type": "stream",
     "text": [
      "fraction=  0.746\n"
     ]
    }
   ],
   "source": [
    "counter = 0\n",
    "iteration =0\n",
    "status = np.ones([N_runs*10])\n",
    "E_in_reg = np.zeros([N_runs])\n",
    "E_out_reg = np.zeros([N_runs])\n",
    "E_in_kern = np.zeros([N_runs])\n",
    "E_out_kern = np.zeros([N_runs])\n",
    "while counter< N_runs:\n",
    "    train_set = generate_rand_points(N_train)\n",
    "    test_set = generate_rand_points(N_test)\n",
    "    f_labels_train = target_function(train_set)\n",
    "    f_labels_test = target_function(test_set)\n",
    "    W_rbf, nu_k, status[iteration] = RBF(train_set, f_labels_train, 12, 1.5)\n",
    "    if status[iteration]!=-1:        \n",
    "        predicted_in = RBF_predict( train_set, W_rbf, 12, 1.5, nu_k)\n",
    "        predicted_out = RBF_predict( test_set, W_rbf, 12, 1.5, nu_k)\n",
    "        E_in_reg[counter] =error_in_out_evaluation(f_labels_train, predicted_in)\n",
    "        E_out_reg[counter] =error_in_out_evaluation(f_labels_test, predicted_out)\n",
    "\n",
    "        E_in_kern[counter], E_out_kern[counter] = SVM_func_rbf(train_set, f_labels_train, test_set, f_labels_test, 1.5)\n",
    "        counter+=1\n",
    "    iteration+=1\n",
    "\n",
    "print(\"fraction= \", np.count_nonzero(E_out_kern < E_out_reg) / np.float(N_runs) )"
   ]
  },
  {
   "cell_type": "markdown",
   "metadata": {},
   "source": [
    "Thus the kernel with number of clusters K=12 and $\\gamma = 1.5$  is better than regular RBF in 74.6% of the time. The correct answer is <b>[d]</b>.\n",
    "\n",
    "<b>Problem 16</b>"
   ]
  },
  {
   "cell_type": "code",
   "execution_count": 48,
   "metadata": {
    "collapsed": false
   },
   "outputs": [
    {
     "name": "stdout",
     "output_type": "stream",
     "text": [
      "[ 0.112  0.065  0.073  0.415  0.01 ]\n"
     ]
    }
   ],
   "source": [
    "counter = 0\n",
    "iteration =0\n",
    "status9 = np.ones([N_runs*10])\n",
    "status12 = np.ones([N_runs*10])\n",
    "E_in_K = np.zeros([N_runs, 2])\n",
    "E_out_K = np.zeros([N_runs, 2])\n",
    "while counter< N_runs:\n",
    "    train_set = generate_rand_points(N_train)\n",
    "    test_set = generate_rand_points(N_test)\n",
    "    f_labels_train = target_function(train_set)\n",
    "    f_labels_test = target_function(test_set)\n",
    "    \n",
    "    W_rbf9, nu_k9, status9[iteration] = RBF(train_set, f_labels_train, 9, 1.5)\n",
    "    W_rbf12, nu_k12, status12[iteration] = RBF(train_set, f_labels_train, 12, 1.5)\n",
    "    if status9[iteration]!=-1 and status12[iteration]!=-1:        \n",
    "        predicted_in_9 = RBF_predict( train_set, W_rbf9, 9, 1.5, nu_k9)\n",
    "        predicted_out_9 = RBF_predict( test_set, W_rbf9, 9, 1.5, nu_k9)\n",
    "        E_in_K[counter][0] = error_in_out_evaluation(f_labels_train, predicted_in_9)\n",
    "        E_out_K[counter][0] =error_in_out_evaluation(f_labels_test, predicted_out_9)\n",
    "        \n",
    "        predicted_in_12 = RBF_predict( train_set, W_rbf12, 12, 1.5, nu_k12)\n",
    "        predicted_out_12 = RBF_predict( test_set, W_rbf12, 12, 1.5, nu_k12)\n",
    "        E_in_K[counter][1] = error_in_out_evaluation(f_labels_train, predicted_in_12)\n",
    "        E_out_K[counter][1] =error_in_out_evaluation(f_labels_test, predicted_out_12)\n",
    "        counter+=1   \n",
    "    iteration+=1\n",
    "probs = np.zeros([5])    \n",
    "probs[0] =np.count_nonzero( np.all( ((E_in_K[:,1] < E_in_K[:,0]), (E_out_K[:,1] > E_out_K[:,0])), axis=0 ) ) / np.float(N_runs)\n",
    "probs[1] =np.count_nonzero( np.all( ((E_in_K[:,0] < E_in_K[:,1]), (E_out_K[:,0] > E_out_K[:,1])), axis=0 ) ) / np.float(N_runs)\n",
    "probs[2] =np.count_nonzero( np.all( ((E_in_K[:,1] > E_in_K[:,0]), (E_out_K[:,1] > E_out_K[:,0])), axis=0 ) ) / np.float(N_runs)\n",
    "probs[3] =np.count_nonzero( np.all( ((E_in_K[:,1] < E_in_K[:,0]), (E_out_K[:,1] < E_out_K[:,0])), axis=0 ) ) / np.float(N_runs)\n",
    "probs[4] =np.count_nonzero( np.all( ((E_in_K[:,1] == E_in_K[:,0]), (E_out_K[:,1] == E_out_K[:,0])), axis=0 ) ) / np.float(N_runs)\n",
    "print(probs)"
   ]
  },
  {
   "cell_type": "markdown",
   "metadata": {},
   "source": [
    "Thus the case when E_in and E_out both go down happens more often then the others. The correct answer is <b>[d]</b>.\n",
    "\n",
    "<b>Problem 17</b>"
   ]
  },
  {
   "cell_type": "code",
   "execution_count": 49,
   "metadata": {
    "collapsed": false
   },
   "outputs": [
    {
     "name": "stdout",
     "output_type": "stream",
     "text": [
      "[ 0.082  0.08   0.365  0.169  0.01 ]\n"
     ]
    }
   ],
   "source": [
    "counter = 0\n",
    "iteration =0\n",
    "status1_5 = np.ones([N_runs*10])\n",
    "status2 = np.ones([N_runs*10])\n",
    "E_in_K = np.zeros([N_runs, 2])\n",
    "E_out_K = np.zeros([N_runs, 2])\n",
    "while counter< N_runs:\n",
    "    train_set = generate_rand_points(N_train)\n",
    "    test_set = generate_rand_points(N_test)\n",
    "    f_labels_train = target_function(train_set)\n",
    "    f_labels_test = target_function(test_set)\n",
    "    \n",
    "    W_rbf1_5, nu_k1_5, status1_5[iteration] = RBF(train_set, f_labels_train, 9, 1.5)\n",
    "    W_rbf2, nu_k2, status2[iteration] = RBF(train_set, f_labels_train, 9, 2)\n",
    "    if status1_5[iteration]!=-1 and status2[iteration]!=-1:        \n",
    "        predicted_in_1_5 = RBF_predict( train_set, W_rbf1_5, 9, 1.5, nu_k1_5)\n",
    "        predicted_out_1_5 = RBF_predict( test_set, W_rbf1_5, 9, 1.5, nu_k1_5)\n",
    "        E_in_K[counter][0] = error_in_out_evaluation(f_labels_train, predicted_in_1_5)\n",
    "        E_out_K[counter][0] =error_in_out_evaluation(f_labels_test, predicted_out_1_5)\n",
    "        \n",
    "        predicted_in_2 = RBF_predict( train_set, W_rbf2, 9, 2, nu_k2)\n",
    "        predicted_out_2 = RBF_predict( test_set, W_rbf2, 9, 2, nu_k2)\n",
    "        E_in_K[counter][1] = error_in_out_evaluation(f_labels_train, predicted_in_2)\n",
    "        E_out_K[counter][1] =error_in_out_evaluation(f_labels_test, predicted_out_2)\n",
    "        counter+=1   \n",
    "    iteration+=1\n",
    "probs = np.zeros([5])    \n",
    "probs[0] =np.count_nonzero( np.all( ((E_in_K[:,1] < E_in_K[:,0]), (E_out_K[:,1] > E_out_K[:,0])), axis=0 ) ) / np.float(N_runs)\n",
    "probs[1] =np.count_nonzero( np.all( ((E_in_K[:,0] < E_in_K[:,1]), (E_out_K[:,0] > E_out_K[:,1])), axis=0 ) ) / np.float(N_runs)\n",
    "probs[2] =np.count_nonzero( np.all( ((E_in_K[:,1] > E_in_K[:,0]), (E_out_K[:,1] > E_out_K[:,0])), axis=0 ) ) / np.float(N_runs)\n",
    "probs[3] =np.count_nonzero( np.all( ((E_in_K[:,1] < E_in_K[:,0]), (E_out_K[:,1] < E_out_K[:,0])), axis=0 ) ) / np.float(N_runs)\n",
    "probs[4] =np.count_nonzero( np.all( ((E_in_K[:,1] == E_in_K[:,0]), (E_out_K[:,1] == E_out_K[:,0])), axis=0 ) ) / np.float(N_runs)\n",
    "print(probs)"
   ]
  },
  {
   "cell_type": "markdown",
   "metadata": {},
   "source": [
    "Thus the case when E_in and E_out both go up happens more often then the others. The correct answer is <b>[c]</b>.\n",
    "\n",
    "<b>Problem 18</b>"
   ]
  },
  {
   "cell_type": "code",
   "execution_count": 51,
   "metadata": {
    "collapsed": false
   },
   "outputs": [
    {
     "name": "stdout",
     "output_type": "stream",
     "text": [
      "% of Ein==0:  4.8\n"
     ]
    }
   ],
   "source": [
    "print(\"% of Ein==0: \", 100*np.count_nonzero(E_in_K[:,0]==0)/ np.float(N_runs))"
   ]
  },
  {
   "cell_type": "markdown",
   "metadata": {},
   "source": [
    "The regular RBF achieves $E_{in}=0$ in 4.8% of the time. The correct answer is <b>[a]</b>."
   ]
  }
 ],
 "metadata": {
  "kernelspec": {
   "display_name": "Python 3",
   "language": "python",
   "name": "python3"
  },
  "language_info": {
   "codemirror_mode": {
    "name": "ipython",
    "version": 3
   },
   "file_extension": ".py",
   "mimetype": "text/x-python",
   "name": "python",
   "nbconvert_exporter": "python",
   "pygments_lexer": "ipython3",
   "version": "3.6.0"
  }
 },
 "nbformat": 4,
 "nbformat_minor": 2
}
