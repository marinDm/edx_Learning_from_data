{
 "cells": [
  {
   "cell_type": "markdown",
   "metadata": {},
   "source": [
    "Let's define the functions we need to solve problems 7 - 10."
   ]
  },
  {
   "cell_type": "code",
   "execution_count": 24,
   "metadata": {
    "collapsed": true
   },
   "outputs": [],
   "source": [
    "import numpy as np\n",
    "import matplotlib.pyplot as plt\n",
    "import random\n",
    "import time\n",
    "import pandas as pd\n",
    "\n",
    "def linear_regr_func_regularized(y, x, lam, size1):\n",
    "    I = np.zeros([size1, size1])\n",
    "    np.fill_diagonal(I, 1.0)\n",
    "    X_T = np.transpose(x)\n",
    "    X_inv = np.linalg.inv( np.dot(X_T, x) + lam*I )\n",
    "    X_ps_inv = np.dot(X_inv, X_T)\n",
    "    W_lin = np.dot(X_ps_inv, y)\n",
    "    return W_lin\n",
    "\n",
    "def prepare_data_num_vs_all(train_data, test_data, num):\n",
    "    y_train = np.zeros(len(train_data))\n",
    "    y_test = np.zeros(len(test_data))\n",
    "    for i in range(len(train_data)):\n",
    "        if(train_data[i,0]==num):\n",
    "            y_train[i]= 1\n",
    "        else:\n",
    "            y_train[i]= -1\n",
    "            \n",
    "    for i in range(len(test_data)):\n",
    "        if(test_data[i,0]==num):\n",
    "            y_test[i]= 1\n",
    "        else:\n",
    "            y_test[i]= -1\n",
    "    return y_train, y_test\n",
    "\n",
    "def prepare_data_num_vs_num(train_data, test_data, num1, num2):\n",
    "    train_2_nums = train_data[(train_data[:, 0]== num1) | (train_data[:, 0]== num2)]\n",
    "    test_2_nums = test_data[(test_data[:, 0]== num1) | (test_data[:, 0]== num2)]\n",
    "    \n",
    "    y_train = np.zeros(len(train_2_nums))\n",
    "    y_test = np.zeros(len(test_2_nums))\n",
    "    for i in range(len(train_2_nums)):\n",
    "        if(train_2_nums[i,0]==num2):\n",
    "            y_train[i]= 1\n",
    "        else:\n",
    "            y_train[i]= -1\n",
    "            \n",
    "    for i in range(len(test_2_nums)):\n",
    "        if(test_2_nums[i,0]==num2):\n",
    "            y_test[i]= 1\n",
    "        else:\n",
    "            y_test[i]= -1\n",
    "    return train_2_nums, y_train, test_2_nums, y_test \n",
    "\n",
    "def error_in_out_evaluation(f_labels, g_labels):\n",
    "    N_points = len(f_labels)\n",
    "    E_in = 0.0\n",
    "    for i in range(0, N_points):\n",
    "        if(f_labels[i] != g_labels[i]):\n",
    "            E_in+=1\n",
    "            \n",
    "    E_in = E_in / N_points\n",
    "    return E_in\n",
    "\n",
    "def prepare_data(data):\n",
    "    E = np.zeros([len(data)])\n",
    "    E.fill(1)\n",
    "    prepared = np.stack([E, data[:,1], data[:, 2]], axis =1)\n",
    "    return prepared\n",
    "\n",
    "def feat_transform(data):\n",
    "    E = np.zeros([len(data)])\n",
    "    E.fill(1)\n",
    "    prepared = np.stack([E, data[:,1], data[:, 2], data[:,1]*data[:, 2], (data[:,1])**2, (data[:, 2])**2 ], axis =1)\n",
    "    return prepared"
   ]
  },
  {
   "cell_type": "markdown",
   "metadata": {},
   "source": [
    "<b>Problem 7</b>"
   ]
  },
  {
   "cell_type": "code",
   "execution_count": 25,
   "metadata": {
    "collapsed": false
   },
   "outputs": [
    {
     "name": "stdout",
     "output_type": "stream",
     "text": [
      "min E_in: 8 vs all\n"
     ]
    }
   ],
   "source": [
    "train_set = pd.read_table(\"features.train\", delim_whitespace=True, header=None).values\n",
    "test_set = pd.read_table(\"features.test\", delim_whitespace=True, header=None).values\n",
    "\n",
    "#problem 7\n",
    "lam = 1.0\n",
    "prep_train = prepare_data(train_set)\n",
    "E_in_7 = np.zeros([5])\n",
    "counter =0\n",
    "nums_list_7 = (5, 6, 7, 8, 9)\n",
    "for i in nums_list_7:\n",
    "    y_train, y_test = prepare_data_num_vs_all(train_set, test_set, i)\n",
    "    w_reg = linear_regr_func_regularized(y_train, prep_train, lam, 3)\n",
    "    g_labels_in = np.sign(np.dot(w_reg, np.transpose(prep_train) ))\n",
    "    E_in_7[counter] = error_in_out_evaluation(y_train, g_labels_in)\n",
    "    counter+=1\n",
    "print(\"min E_in:\", nums_list_7[np.argmin(E_in_7)], \"vs all\")"
   ]
  },
  {
   "cell_type": "markdown",
   "metadata": {},
   "source": [
    "So the correct answer is <b>[d]</b>.\n",
    "\n",
    "<b>Problem 8</b>"
   ]
  },
  {
   "cell_type": "code",
   "execution_count": 26,
   "metadata": {
    "collapsed": false
   },
   "outputs": [
    {
     "name": "stdout",
     "output_type": "stream",
     "text": [
      "min E_out: 1 vs all\n"
     ]
    }
   ],
   "source": [
    "E_out_8 = np.zeros([5])\n",
    "counter =0\n",
    "nums_list_8 = (0, 1, 2, 3, 4)\n",
    "for i in nums_list_8:\n",
    "    y_train, y_test = prepare_data_num_vs_all(train_set, test_set, i)\n",
    "    nonlin_feat_in = feat_transform(train_set)\n",
    "    nonlin_feat_out = feat_transform(test_set)\n",
    "    w_reg = linear_regr_func_regularized(y_train, nonlin_feat_in, lam, 6)\n",
    "    g_labels_out = np.sign(np.dot(w_reg, np.transpose(nonlin_feat_out) ))\n",
    "    E_out_8[counter] = error_in_out_evaluation(y_test, g_labels_out)\n",
    "    counter+=1\n",
    "print(\"min E_out:\", nums_list_8[np.argmin(E_out_8)], \"vs all\")"
   ]
  },
  {
   "cell_type": "markdown",
   "metadata": {},
   "source": [
    "The correct answer is <b>[b]</b>.\n",
    "\n",
    "<b>Problem 9</b>"
   ]
  },
  {
   "cell_type": "code",
   "execution_count": 29,
   "metadata": {
    "collapsed": false
   },
   "outputs": [
    {
     "name": "stdout",
     "output_type": "stream",
     "text": [
      "[False False False False  True]\n"
     ]
    }
   ],
   "source": [
    "E_in_9 = np.zeros([10])\n",
    "E_out_9 = np.zeros([10])\n",
    "E_in_9_nonlin = np.zeros([10])\n",
    "E_out_9_nonlin = np.zeros([10])\n",
    "prep_train = prepare_data(train_set)\n",
    "prep_test = prepare_data(test_set)\n",
    "counter =0\n",
    "nums_list_9 = (0, 1, 2, 3, 4, 5, 6, 7, 8, 9)\n",
    "for i in nums_list_9:\n",
    "    y_train, y_test = prepare_data_num_vs_all(train_set, test_set, i)\n",
    "\n",
    "    w_reg = linear_regr_func_regularized(y_train, prep_train, lam, 3)\n",
    "    g_labels_in = np.sign(np.dot(w_reg, np.transpose(prep_train) ))    \n",
    "    g_labels_out = np.sign(np.dot(w_reg, np.transpose(prep_test) ))\n",
    "    E_in_9[counter] = error_in_out_evaluation(y_train, g_labels_in)\n",
    "    E_out_9[counter] = error_in_out_evaluation(y_test, g_labels_out)\n",
    "    \n",
    "    nonlin_feat_in = feat_transform(train_set)\n",
    "    nonlin_feat_out = feat_transform(test_set)\n",
    "    w_reg_nonl = linear_regr_func_regularized(y_train, nonlin_feat_in, lam, 6)\n",
    "    g_labels_in_nonl = np.sign(np.dot(w_reg_nonl, np.transpose(nonlin_feat_in) ))\n",
    "    g_labels_out_nonl = np.sign(np.dot(w_reg_nonl, np.transpose(nonlin_feat_out) ))\n",
    "    E_in_9_nonlin[counter] = error_in_out_evaluation(y_train, g_labels_in_nonl)\n",
    "    E_out_9_nonlin[counter] = error_in_out_evaluation(y_test, g_labels_out_nonl)\n",
    "    counter+=1\n",
    "results = np.zeros([5], dtype=bool)\n",
    "results[0] = np.all(E_in_9_nonlin > E_out_9_nonlin)\n",
    "results[1] = np.all(0.95* E_out_9 >= E_out_9_nonlin)\n",
    "results[2] = np.all(E_out_9 == E_out_9_nonlin)\n",
    "results[3] = np.all( E_out_9 <= 0.95*E_out_9_nonlin)\n",
    "results[4] = (E_out_9[5] > E_out_9_nonlin[5])and (0.95*E_out_9[5] < E_out_9_nonlin[5])\n",
    "print(results)"
   ]
  },
  {
   "cell_type": "markdown",
   "metadata": {},
   "source": [
    "The correct answer is <b>[e]</b>.\n",
    "\n",
    "<b>Problem 10</b>"
   ]
  },
  {
   "cell_type": "code",
   "execution_count": 35,
   "metadata": {
    "collapsed": false
   },
   "outputs": [
    {
     "name": "stdout",
     "output_type": "stream",
     "text": [
      "[ True False False False False]\n"
     ]
    }
   ],
   "source": [
    "x_train_1_5, y_train_1_5, x_test_1_5, y_test_1_5 =prepare_data_num_vs_num(train_set, test_set, 1, 5)\n",
    "E_in_10 = np.zeros([2])\n",
    "E_out_10 = np.zeros([2])\n",
    "E_in_10_nonlin = np.zeros([2])\n",
    "E_out_10_nonlin = np.zeros([2])\n",
    "prep_train = prepare_data(x_train_1_5)\n",
    "prep_test = prepare_data(x_test_1_5)\n",
    "counter =0\n",
    "lambda_list = (0.01, 1)\n",
    "for i in lambda_list:\n",
    "    w_reg = linear_regr_func_regularized(y_train_1_5, prep_train, i, 3)\n",
    "    g_labels_in = np.sign(np.dot(w_reg, np.transpose(prep_train) ))    \n",
    "    g_labels_out = np.sign(np.dot(w_reg, np.transpose(prep_test) ))\n",
    "    E_in_10[counter] = error_in_out_evaluation(y_train_1_5, g_labels_in)\n",
    "    E_out_10[counter] = error_in_out_evaluation(y_test_1_5, g_labels_out)\n",
    "    \n",
    "    nonlin_feat_in = feat_transform(x_train_1_5)\n",
    "    nonlin_feat_out = feat_transform(x_test_1_5)\n",
    "    w_reg_nonl = linear_regr_func_regularized(y_train_1_5, nonlin_feat_in, i, 6)\n",
    "    g_labels_in_nonl = np.sign(np.dot(w_reg_nonl, np.transpose(nonlin_feat_in) ))\n",
    "    g_labels_out_nonl = np.sign(np.dot(w_reg_nonl, np.transpose(nonlin_feat_out) ))\n",
    "    E_in_10_nonlin[counter] = error_in_out_evaluation(y_train_1_5, g_labels_in_nonl)\n",
    "    E_out_10_nonlin[counter] = error_in_out_evaluation(y_test_1_5, g_labels_out_nonl)\n",
    "    counter+=1\n",
    "results = np.zeros([5], dtype=bool)\n",
    "results[0] = np.all(( (E_in_10< E_out_10), (E_in_10_nonlin < E_out_10_nonlin) ))\n",
    "results[1] = np.all(E_in_10 == E_in_10_nonlin)\n",
    "results[2] = np.all(E_out_10 == E_out_10_nonlin)\n",
    "results[3] = np.all (( ( E_in_10[0] < E_in_10[1]), ( E_out_10[0] < E_out_10[1]), (E_in_10_nonlin[0] < E_in_10_nonlin[1]), ( E_out_10_nonlin[0] < E_out_10_nonlin[1]) ))\n",
    "results[4] = np.all (( ( E_in_10[0] > E_in_10[1]), ( E_out_10[0] > E_out_10[1]), (E_in_10_nonlin[0] > E_in_10_nonlin[1]), ( E_out_10_nonlin[0] > E_out_10_nonlin[1]) ))\n",
    "print(results)"
   ]
  },
  {
   "cell_type": "markdown",
   "metadata": {},
   "source": [
    "The correct answer is <b>[a]</b>."
   ]
  }
 ],
 "metadata": {
  "kernelspec": {
   "display_name": "Python 3",
   "language": "python",
   "name": "python3"
  },
  "language_info": {
   "codemirror_mode": {
    "name": "ipython",
    "version": 3
   },
   "file_extension": ".py",
   "mimetype": "text/x-python",
   "name": "python",
   "nbconvert_exporter": "python",
   "pygments_lexer": "ipython3",
   "version": "3.6.0"
  }
 },
 "nbformat": 4,
 "nbformat_minor": 2
}
