{
 "cells": [
  {
   "cell_type": "markdown",
   "metadata": {},
   "source": [
    "<b>Problem 11</b>\n",
    "\n",
    "Let's draw given points in $Z$ space.  "
   ]
  },
  {
   "cell_type": "code",
   "execution_count": 2,
   "metadata": {
    "collapsed": false
   },
   "outputs": [
    {
     "data": {
      "image/png": "[encoded data removed]",
      "text/plain": [
       "<matplotlib.figure.Figure at 0x4e919e8>"
      ]
     },
     "metadata": {},
     "output_type": "display_data"
    }
   ],
   "source": [
    "import numpy as np\n",
    "import matplotlib.pyplot as plt\n",
    "from sklearn.svm import SVC\n",
    "\n",
    "x = np.array([[1,0], [0,1], [0,-1], [-1,0], [0,2], [0,-2], [-2, 0]])\n",
    "z = np.zeros([7,2])\n",
    "y= np.array([-1, -1, -1, 1, 1, 1, 1])\n",
    "\n",
    "for i in range(0,7):\n",
    "    z[i,0] = x[i, 1]**2 - 2*x[i, 0]-1\n",
    "    z[i,1] = x[i, 0]**2 - 2*x[i, 1]+1\n",
    "\n",
    "fig = plt.figure()\n",
    "ax1 = fig.add_subplot(1,1,1)\n",
    "ax1.plot(z[:,0][y ==-1], z[:,1][y ==-1], 'w', markerfacecolor= '#33AC10', marker='o', ms=10)\n",
    "ax1.plot(z[:,0][y ==1], z[:,1][y ==1], 'w', markerfacecolor= '#AA1FFE', marker='^', ms=14)\n",
    "\n",
    "ax1.plot([0,0], [-3, 5], 'y', linewidth=1)\n",
    "ax1.plot([1,1], [-3, 5], 'y', linewidth=1)\n",
    "ax1.plot([0.5,0.5], [-3, 5], 'r', linewidth=1)\n",
    "font = {'family': 'serif', 'weight': 'normal', 'size': 9}\n",
    "plt.text(0.60, 1.95, 'optimal separating plane', fontdict=font, rotation = 'vertical')\n",
    "plt.text(-2.0, 0.65, '-1', fontdict={'size': 24})\n",
    "plt.text(2.0, 0.65, '+1', fontdict={'size': 24})\n",
    "plt.show()"
   ]
  },
  {
   "cell_type": "markdown",
   "metadata": {},
   "source": [
    "After nonlinear transformation the data became linearly separable. The optimal separating plane is in the middle of the margin. Hence the equation for this plane is: \n",
    "\n",
    "$g(\\boldsymbol x)= x_1 - 0.5$. \n",
    "\n",
    "$w_1=1, \\hspace{0.7cm} w_2=0, \\hspace{0.7cm} b=-0.5$\n",
    "\n",
    "The correct answer is <b>[c]</b>."
   ]
  },
  {
   "cell_type": "markdown",
   "metadata": {},
   "source": [
    "<b>Problem 12</b>\n",
    "\n",
    "Given that we have to use the hard-margin SVM algorithm with the kernel $K(x, x^\\prime)=(1+x^Tx^\\prime)^2$\n",
    "\n",
    "We will use SVC from scikit-learn with $C=\\infty$ and polynomial kernel with degree of 2. "
   ]
  },
  {
   "cell_type": "code",
   "execution_count": 4,
   "metadata": {
    "collapsed": false
   },
   "outputs": [
    {
     "name": "stdout",
     "output_type": "stream",
     "text": [
      "n_vectors =  5\n"
     ]
    }
   ],
   "source": [
    "def SVM_func(X_in, y_in):\n",
    "    clf_SVM = SVC( C=np.inf, kernel = 'poly', degree= 2, coef0=1, shrinking = False, gamma=1,  random_state=200) \n",
    "    clf_SVM.fit(X_in, y_in)\n",
    "    n_vectors = np.sum(clf_SVM.n_support_)\n",
    "    return n_vectors\n",
    "\n",
    "n_vectors = SVM_func(x, y)\n",
    "print(\"n_vectors = \", n_vectors)"
   ]
  },
  {
   "cell_type": "markdown",
   "metadata": {},
   "source": [
    "The correct answer is <b>[c]</b>."
   ]
  }
 ],
 "metadata": {
  "kernelspec": {
   "display_name": "Python 3",
   "language": "python",
   "name": "python3"
  },
  "language_info": {
   "codemirror_mode": {
    "name": "ipython",
    "version": 3
   },
   "file_extension": ".py",
   "mimetype": "text/x-python",
   "name": "python",
   "nbconvert_exporter": "python",
   "pygments_lexer": "ipython3",
   "version": "3.6.0"
  }
 },
 "nbformat": 4,
 "nbformat_minor": 2
}
